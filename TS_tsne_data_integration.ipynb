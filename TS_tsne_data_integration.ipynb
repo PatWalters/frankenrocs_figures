{
 "cells": [
  {
   "cell_type": "code",
   "execution_count": 1,
   "id": "ee917a32",
   "metadata": {},
   "outputs": [],
   "source": [
    "import pandas as pd\n",
    "import useful_rdkit_utils as uru\n",
    "from sklearn.decomposition import PCA\n",
    "import numpy as np\n",
    "from sklearn.manifold import TSNE\n",
    "import seaborn as sns\n",
    "import matplotlib.pyplot as plt\n",
    "from rdkit import Chem\n",
    "from rdkit.Chem import AllChem\n",
    "import string"
   ]
  },
  {
   "cell_type": "code",
   "execution_count": 2,
   "id": "a67ab502",
   "metadata": {},
   "outputs": [],
   "source": [
    "ts_df = pd.read_csv(\"ts_telemetry.csv.gz\")"
   ]
  },
  {
   "cell_type": "code",
   "execution_count": 3,
   "id": "8e5ca421",
   "metadata": {},
   "outputs": [],
   "source": [
    "bb_df = pd.read_csv(\"bb.csv\")"
   ]
  },
  {
   "cell_type": "code",
   "execution_count": 4,
   "id": "907f6a5e",
   "metadata": {},
   "outputs": [
    {
     "data": {
      "text/html": [
       "<div>\n",
       "<style scoped>\n",
       "    .dataframe tbody tr th:only-of-type {\n",
       "        vertical-align: middle;\n",
       "    }\n",
       "\n",
       "    .dataframe tbody tr th {\n",
       "        vertical-align: top;\n",
       "    }\n",
       "\n",
       "    .dataframe thead th {\n",
       "        text-align: right;\n",
       "    }\n",
       "</style>\n",
       "<table border=\"1\" class=\"dataframe\">\n",
       "  <thead>\n",
       "    <tr style=\"text-align: right;\">\n",
       "      <th></th>\n",
       "      <th>location</th>\n",
       "      <th>synthon_id</th>\n",
       "      <th>total_scored</th>\n",
       "      <th>cycle</th>\n",
       "      <th>bootstrap</th>\n",
       "      <th>scale</th>\n",
       "      <th>synthon_count</th>\n",
       "    </tr>\n",
       "  </thead>\n",
       "  <tbody>\n",
       "    <tr>\n",
       "      <th>0</th>\n",
       "      <td>0.0</td>\n",
       "      <td>2734314</td>\n",
       "      <td>1000</td>\n",
       "      <td>1</td>\n",
       "      <td>False</td>\n",
       "      <td>1.0</td>\n",
       "      <td>0</td>\n",
       "    </tr>\n",
       "    <tr>\n",
       "      <th>1</th>\n",
       "      <td>0.0</td>\n",
       "      <td>2734354</td>\n",
       "      <td>1000</td>\n",
       "      <td>1</td>\n",
       "      <td>False</td>\n",
       "      <td>1.0</td>\n",
       "      <td>0</td>\n",
       "    </tr>\n",
       "    <tr>\n",
       "      <th>2</th>\n",
       "      <td>0.0</td>\n",
       "      <td>2734356</td>\n",
       "      <td>1000</td>\n",
       "      <td>1</td>\n",
       "      <td>False</td>\n",
       "      <td>1.0</td>\n",
       "      <td>0</td>\n",
       "    </tr>\n",
       "    <tr>\n",
       "      <th>3</th>\n",
       "      <td>0.0</td>\n",
       "      <td>2734358</td>\n",
       "      <td>1000</td>\n",
       "      <td>1</td>\n",
       "      <td>False</td>\n",
       "      <td>1.0</td>\n",
       "      <td>0</td>\n",
       "    </tr>\n",
       "    <tr>\n",
       "      <th>4</th>\n",
       "      <td>0.0</td>\n",
       "      <td>2734360</td>\n",
       "      <td>1000</td>\n",
       "      <td>1</td>\n",
       "      <td>False</td>\n",
       "      <td>1.0</td>\n",
       "      <td>0</td>\n",
       "    </tr>\n",
       "  </tbody>\n",
       "</table>\n",
       "</div>"
      ],
      "text/plain": [
       "   location  synthon_id  total_scored  cycle  bootstrap  scale  synthon_count\n",
       "0       0.0     2734314          1000      1      False    1.0              0\n",
       "1       0.0     2734354          1000      1      False    1.0              0\n",
       "2       0.0     2734356          1000      1      False    1.0              0\n",
       "3       0.0     2734358          1000      1      False    1.0              0\n",
       "4       0.0     2734360          1000      1      False    1.0              0"
      ]
     },
     "execution_count": 4,
     "metadata": {},
     "output_type": "execute_result"
    }
   ],
   "source": [
    "ts_df.head()"
   ]
  },
  {
   "cell_type": "code",
   "execution_count": 5,
   "id": "6a658c2d",
   "metadata": {},
   "outputs": [
    {
     "data": {
      "text/html": [
       "<div>\n",
       "<style scoped>\n",
       "    .dataframe tbody tr th:only-of-type {\n",
       "        vertical-align: middle;\n",
       "    }\n",
       "\n",
       "    .dataframe tbody tr th {\n",
       "        vertical-align: top;\n",
       "    }\n",
       "\n",
       "    .dataframe thead th {\n",
       "        text-align: right;\n",
       "    }\n",
       "</style>\n",
       "<table border=\"1\" class=\"dataframe\">\n",
       "  <thead>\n",
       "    <tr style=\"text-align: right;\">\n",
       "      <th></th>\n",
       "      <th>smiles</th>\n",
       "      <th>synthon_id</th>\n",
       "      <th>synthon_number</th>\n",
       "      <th>bb_id</th>\n",
       "    </tr>\n",
       "  </thead>\n",
       "  <tbody>\n",
       "    <tr>\n",
       "      <th>0</th>\n",
       "      <td>COC(=O)CC(N)C=1C=CC=CC1Cl</td>\n",
       "      <td>2734334</td>\n",
       "      <td>1</td>\n",
       "      <td>EN300-23255</td>\n",
       "    </tr>\n",
       "    <tr>\n",
       "      <th>1</th>\n",
       "      <td>Cl.COC(=O)C(N)CC=1C=CC=CC1</td>\n",
       "      <td>2735030</td>\n",
       "      <td>1</td>\n",
       "      <td>EN300-04537</td>\n",
       "    </tr>\n",
       "    <tr>\n",
       "      <th>2</th>\n",
       "      <td>Cl.COC(=O)C=1C=C(CN)C=CC1OC</td>\n",
       "      <td>2735032</td>\n",
       "      <td>1</td>\n",
       "      <td>EN300-08509</td>\n",
       "    </tr>\n",
       "    <tr>\n",
       "      <th>3</th>\n",
       "      <td>Cl.COC(=O)CC(N)C=1C=CC(OC)=C(OC)C1</td>\n",
       "      <td>2735036</td>\n",
       "      <td>1</td>\n",
       "      <td>EN300-23095</td>\n",
       "    </tr>\n",
       "    <tr>\n",
       "      <th>4</th>\n",
       "      <td>Cl.COC(=O)CC(N)C=1C=CC(OC)=CC1</td>\n",
       "      <td>2735040</td>\n",
       "      <td>1</td>\n",
       "      <td>EN300-30310</td>\n",
       "    </tr>\n",
       "  </tbody>\n",
       "</table>\n",
       "</div>"
      ],
      "text/plain": [
       "                               smiles  synthon_id  synthon_number        bb_id\n",
       "0           COC(=O)CC(N)C=1C=CC=CC1Cl     2734334               1  EN300-23255\n",
       "1          Cl.COC(=O)C(N)CC=1C=CC=CC1     2735030               1  EN300-04537\n",
       "2         Cl.COC(=O)C=1C=C(CN)C=CC1OC     2735032               1  EN300-08509\n",
       "3  Cl.COC(=O)CC(N)C=1C=CC(OC)=C(OC)C1     2735036               1  EN300-23095\n",
       "4      Cl.COC(=O)CC(N)C=1C=CC(OC)=CC1     2735040               1  EN300-30310"
      ]
     },
     "execution_count": 5,
     "metadata": {},
     "output_type": "execute_result"
    }
   ],
   "source": [
    "bb_df.head()"
   ]
  },
  {
   "cell_type": "code",
   "execution_count": 6,
   "id": "bce7af03",
   "metadata": {},
   "outputs": [
    {
     "data": {
      "text/plain": [
       "2    15439\n",
       "1     1158\n",
       "Name: synthon_number, dtype: int64"
      ]
     },
     "execution_count": 6,
     "metadata": {},
     "output_type": "execute_result"
    }
   ],
   "source": [
    "bb_df.synthon_number.value_counts()"
   ]
  },
  {
   "cell_type": "code",
   "execution_count": 7,
   "id": "6204e73d",
   "metadata": {},
   "outputs": [],
   "source": [
    "bb_df['fp'] = bb_df.smiles.apply(uru.smi2numpy_fp)"
   ]
  },
  {
   "cell_type": "code",
   "execution_count": 8,
   "id": "ac0e4c98",
   "metadata": {},
   "outputs": [
    {
     "data": {
      "text/html": [
       "<div>\n",
       "<style scoped>\n",
       "    .dataframe tbody tr th:only-of-type {\n",
       "        vertical-align: middle;\n",
       "    }\n",
       "\n",
       "    .dataframe tbody tr th {\n",
       "        vertical-align: top;\n",
       "    }\n",
       "\n",
       "    .dataframe thead th {\n",
       "        text-align: right;\n",
       "    }\n",
       "</style>\n",
       "<table border=\"1\" class=\"dataframe\">\n",
       "  <thead>\n",
       "    <tr style=\"text-align: right;\">\n",
       "      <th></th>\n",
       "      <th>smiles</th>\n",
       "      <th>synthon_id</th>\n",
       "      <th>synthon_number</th>\n",
       "      <th>bb_id</th>\n",
       "      <th>fp</th>\n",
       "    </tr>\n",
       "  </thead>\n",
       "  <tbody>\n",
       "    <tr>\n",
       "      <th>0</th>\n",
       "      <td>COC(=O)CC(N)C=1C=CC=CC1Cl</td>\n",
       "      <td>2734334</td>\n",
       "      <td>1</td>\n",
       "      <td>EN300-23255</td>\n",
       "      <td>[0, 1, 0, 0, 0, 0, 0, 0, 0, 0, 0, 0, 0, 0, 0, ...</td>\n",
       "    </tr>\n",
       "    <tr>\n",
       "      <th>1</th>\n",
       "      <td>Cl.COC(=O)C(N)CC=1C=CC=CC1</td>\n",
       "      <td>2735030</td>\n",
       "      <td>1</td>\n",
       "      <td>EN300-04537</td>\n",
       "      <td>[0, 1, 0, 0, 0, 0, 0, 0, 0, 0, 0, 0, 0, 0, 0, ...</td>\n",
       "    </tr>\n",
       "    <tr>\n",
       "      <th>2</th>\n",
       "      <td>Cl.COC(=O)C=1C=C(CN)C=CC1OC</td>\n",
       "      <td>2735032</td>\n",
       "      <td>1</td>\n",
       "      <td>EN300-08509</td>\n",
       "      <td>[0, 0, 0, 0, 0, 0, 0, 0, 0, 0, 0, 0, 0, 0, 0, ...</td>\n",
       "    </tr>\n",
       "    <tr>\n",
       "      <th>3</th>\n",
       "      <td>Cl.COC(=O)CC(N)C=1C=CC(OC)=C(OC)C1</td>\n",
       "      <td>2735036</td>\n",
       "      <td>1</td>\n",
       "      <td>EN300-23095</td>\n",
       "      <td>[0, 1, 0, 0, 0, 0, 0, 0, 0, 0, 0, 0, 0, 0, 0, ...</td>\n",
       "    </tr>\n",
       "    <tr>\n",
       "      <th>4</th>\n",
       "      <td>Cl.COC(=O)CC(N)C=1C=CC(OC)=CC1</td>\n",
       "      <td>2735040</td>\n",
       "      <td>1</td>\n",
       "      <td>EN300-30310</td>\n",
       "      <td>[0, 1, 0, 0, 0, 0, 0, 0, 0, 0, 0, 0, 0, 0, 0, ...</td>\n",
       "    </tr>\n",
       "    <tr>\n",
       "      <th>...</th>\n",
       "      <td>...</td>\n",
       "      <td>...</td>\n",
       "      <td>...</td>\n",
       "      <td>...</td>\n",
       "      <td>...</td>\n",
       "    </tr>\n",
       "    <tr>\n",
       "      <th>16592</th>\n",
       "      <td>CC(C)(C)OC(=O)N[C@@H]1CC(=C[C@@H]1O)C(=O)O</td>\n",
       "      <td>23045600</td>\n",
       "      <td>2</td>\n",
       "      <td>EN300-20065287</td>\n",
       "      <td>[0, 0, 0, 0, 0, 0, 0, 0, 0, 0, 0, 0, 0, 0, 0, ...</td>\n",
       "    </tr>\n",
       "    <tr>\n",
       "      <th>16593</th>\n",
       "      <td>COC=1C=C(Br)C=2C=C(NC2C1)C(=O)O</td>\n",
       "      <td>23045686</td>\n",
       "      <td>2</td>\n",
       "      <td>EN300-1705936</td>\n",
       "      <td>[0, 0, 0, 0, 0, 0, 0, 0, 0, 0, 0, 0, 0, 0, 0, ...</td>\n",
       "    </tr>\n",
       "    <tr>\n",
       "      <th>16594</th>\n",
       "      <td>Cl.OC(=O)CNC=1C=CC=C(Br)N1</td>\n",
       "      <td>23047342</td>\n",
       "      <td>2</td>\n",
       "      <td>EN300-39923803</td>\n",
       "      <td>[0, 0, 0, 0, 0, 0, 0, 0, 0, 0, 0, 0, 0, 0, 0, ...</td>\n",
       "    </tr>\n",
       "    <tr>\n",
       "      <th>16595</th>\n",
       "      <td>OC(=O)C=1C=CC=2OCCNC2C1</td>\n",
       "      <td>23076168</td>\n",
       "      <td>2</td>\n",
       "      <td>EN300-181145</td>\n",
       "      <td>[0, 0, 0, 0, 0, 0, 0, 0, 0, 0, 0, 0, 0, 0, 0, ...</td>\n",
       "    </tr>\n",
       "    <tr>\n",
       "      <th>16596</th>\n",
       "      <td>CN1CCCN2N=C(C=C2C1=O)C(=O)O</td>\n",
       "      <td>23076414</td>\n",
       "      <td>2</td>\n",
       "      <td>EN300-9474499</td>\n",
       "      <td>[0, 0, 0, 0, 0, 0, 0, 0, 0, 0, 0, 0, 0, 0, 0, ...</td>\n",
       "    </tr>\n",
       "  </tbody>\n",
       "</table>\n",
       "<p>16597 rows × 5 columns</p>\n",
       "</div>"
      ],
      "text/plain": [
       "                                           smiles  synthon_id  synthon_number  \\\n",
       "0                       COC(=O)CC(N)C=1C=CC=CC1Cl     2734334               1   \n",
       "1                      Cl.COC(=O)C(N)CC=1C=CC=CC1     2735030               1   \n",
       "2                     Cl.COC(=O)C=1C=C(CN)C=CC1OC     2735032               1   \n",
       "3              Cl.COC(=O)CC(N)C=1C=CC(OC)=C(OC)C1     2735036               1   \n",
       "4                  Cl.COC(=O)CC(N)C=1C=CC(OC)=CC1     2735040               1   \n",
       "...                                           ...         ...             ...   \n",
       "16592  CC(C)(C)OC(=O)N[C@@H]1CC(=C[C@@H]1O)C(=O)O    23045600               2   \n",
       "16593             COC=1C=C(Br)C=2C=C(NC2C1)C(=O)O    23045686               2   \n",
       "16594                  Cl.OC(=O)CNC=1C=CC=C(Br)N1    23047342               2   \n",
       "16595                     OC(=O)C=1C=CC=2OCCNC2C1    23076168               2   \n",
       "16596                 CN1CCCN2N=C(C=C2C1=O)C(=O)O    23076414               2   \n",
       "\n",
       "                bb_id                                                 fp  \n",
       "0         EN300-23255  [0, 1, 0, 0, 0, 0, 0, 0, 0, 0, 0, 0, 0, 0, 0, ...  \n",
       "1         EN300-04537  [0, 1, 0, 0, 0, 0, 0, 0, 0, 0, 0, 0, 0, 0, 0, ...  \n",
       "2         EN300-08509  [0, 0, 0, 0, 0, 0, 0, 0, 0, 0, 0, 0, 0, 0, 0, ...  \n",
       "3         EN300-23095  [0, 1, 0, 0, 0, 0, 0, 0, 0, 0, 0, 0, 0, 0, 0, ...  \n",
       "4         EN300-30310  [0, 1, 0, 0, 0, 0, 0, 0, 0, 0, 0, 0, 0, 0, 0, ...  \n",
       "...               ...                                                ...  \n",
       "16592  EN300-20065287  [0, 0, 0, 0, 0, 0, 0, 0, 0, 0, 0, 0, 0, 0, 0, ...  \n",
       "16593   EN300-1705936  [0, 0, 0, 0, 0, 0, 0, 0, 0, 0, 0, 0, 0, 0, 0, ...  \n",
       "16594  EN300-39923803  [0, 0, 0, 0, 0, 0, 0, 0, 0, 0, 0, 0, 0, 0, 0, ...  \n",
       "16595    EN300-181145  [0, 0, 0, 0, 0, 0, 0, 0, 0, 0, 0, 0, 0, 0, 0, ...  \n",
       "16596   EN300-9474499  [0, 0, 0, 0, 0, 0, 0, 0, 0, 0, 0, 0, 0, 0, 0, ...  \n",
       "\n",
       "[16597 rows x 5 columns]"
      ]
     },
     "execution_count": 8,
     "metadata": {},
     "output_type": "execute_result"
    }
   ],
   "source": [
    "bb_df"
   ]
  },
  {
   "cell_type": "code",
   "execution_count": 9,
   "id": "1c7b567c",
   "metadata": {},
   "outputs": [],
   "source": [
    "pca = PCA(n_components=50)"
   ]
  },
  {
   "cell_type": "code",
   "execution_count": 10,
   "id": "1d1e5680",
   "metadata": {},
   "outputs": [],
   "source": [
    "pcs = pca.fit_transform(np.stack(bb_df.fp))"
   ]
  },
  {
   "cell_type": "code",
   "execution_count": 11,
   "id": "005903fc",
   "metadata": {},
   "outputs": [],
   "source": [
    "tsne = TSNE(n_components=2)\n",
    "tsne_crds = tsne.fit_transform(pcs)"
   ]
  },
  {
   "cell_type": "code",
   "execution_count": 12,
   "id": "0cf5dbc2",
   "metadata": {},
   "outputs": [],
   "source": [
    "bb_df[['tsne_x','tsne_y']] = tsne_crds.tolist()"
   ]
  },
  {
   "cell_type": "code",
   "execution_count": 13,
   "id": "c4b77299",
   "metadata": {},
   "outputs": [],
   "source": [
    "combo_df = ts_df.merge(bb_df[['smiles','synthon_id','synthon_number','bb_id','tsne_x','tsne_y']],on='synthon_id')"
   ]
  },
  {
   "cell_type": "code",
   "execution_count": 14,
   "id": "2a6c8575",
   "metadata": {},
   "outputs": [],
   "source": [
    "combo_df.to_csv(\"ts_tsne_plot_data.csv\",index=False)"
   ]
  },
  {
   "cell_type": "code",
   "execution_count": null,
   "id": "c2358717",
   "metadata": {},
   "outputs": [],
   "source": []
  }
 ],
 "metadata": {
  "kernelspec": {
   "display_name": "Python 3 (ipykernel)",
   "language": "python",
   "name": "python3"
  },
  "language_info": {
   "codemirror_mode": {
    "name": "ipython",
    "version": 3
   },
   "file_extension": ".py",
   "mimetype": "text/x-python",
   "name": "python",
   "nbconvert_exporter": "python",
   "pygments_lexer": "ipython3",
   "version": "3.8.16"
  }
 },
 "nbformat": 4,
 "nbformat_minor": 5
}
